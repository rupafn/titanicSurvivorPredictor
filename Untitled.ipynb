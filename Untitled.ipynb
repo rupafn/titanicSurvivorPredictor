{
 "cells": [
  {
   "cell_type": "code",
   "execution_count": 64,
   "metadata": {},
   "outputs": [
    {
     "data": {
      "text/plain": [
       "529"
      ]
     },
     "execution_count": 64,
     "metadata": {},
     "output_type": "execute_result"
    }
   ],
   "source": [
    "import pandas as pd\n",
    "from sklearn import preprocessing\n",
    "\n",
    "data = pd.read_csv('train.csv')\n",
    "data = data.drop(['PassengerId','Name'],axis=1)\n",
    "le = preprocessing.LabelEncoder()\n",
    "le.fit(data.Sex)\n",
    "data.Sex = le.transform(data.Sex)\n",
    "label = data.Survived\n",
    "age = pd.Series(data.Age)\n",
    "isna = age.isna()\n",
    "isna = isna[isna==True]\n",
    "ind = isna.keys()\n",
    "#drop data with nan age\n",
    "data = data.drop(index = ind, axis = 0)\n",
    "cabin = pd.Series(data.Cabin)\n",
    "isna = cabin.isna()\n",
    "isna = isna[isna==True]\n",
    "# len(isna)\n",
    "# data.keys()\n",
    "# data['Embarked'].unique()"
   ]
  },
  {
   "cell_type": "code",
   "execution_count": null,
   "metadata": {},
   "outputs": [],
   "source": []
  },
  {
   "cell_type": "code",
   "execution_count": null,
   "metadata": {},
   "outputs": [],
   "source": []
  }
 ],
 "metadata": {
  "kernelspec": {
   "display_name": "Python 3",
   "language": "python",
   "name": "python3"
  },
  "language_info": {
   "codemirror_mode": {
    "name": "ipython",
    "version": 3
   },
   "file_extension": ".py",
   "mimetype": "text/x-python",
   "name": "python",
   "nbconvert_exporter": "python",
   "pygments_lexer": "ipython3",
   "version": "3.7.4"
  }
 },
 "nbformat": 4,
 "nbformat_minor": 2
}
