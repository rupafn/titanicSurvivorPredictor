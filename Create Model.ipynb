{
 "cells": [
  {
   "cell_type": "code",
   "execution_count": 29,
   "metadata": {},
   "outputs": [
    {
     "name": "stderr",
     "output_type": "stream",
     "text": [
      "/Users/fajilatunnahar/opt/anaconda3/lib/python3.7/site-packages/sklearn/linear_model/logistic.py:432: FutureWarning: Default solver will be changed to 'lbfgs' in 0.22. Specify a solver to silence this warning.\n",
      "  FutureWarning)\n"
     ]
    }
   ],
   "source": [
    "import pandas as pd\n",
    "from sklearn import preprocessing\n",
    "import numpy as np\n",
    "from sklearn.linear_model import LogisticRegression\n",
    "from sklearn import svm\n",
    "train = pd.read_csv('train1.csv')\n",
    "test = pd.read_csv('test1.csv')\n",
    "scaler = preprocessing.StandardScaler()\n",
    "\n",
    "label = train.Survived\n",
    "train = train.drop(['Survived','Unnamed: 0'], axis=1)\n",
    "trainKeys = train.keys()\n",
    "\n",
    "train = pd.DataFrame(scaler.fit_transform(train))\n",
    "\n",
    "test = test.drop(['Unnamed: 0'], axis=1)\n",
    "testKeys = test.keys()\n",
    "testKeys\n",
    "cols = ['Pclass', 'Sex', 'Age', 'SibSp', 'Parch', 'Ticket','Fare', 'Q', 'S']\n",
    "testConvert = test[cols]\n",
    "testTmp = pd.DataFrame(scaler.fit_transform(testConvert))\n",
    "testTmp.columns = cols\n",
    "testTmp\n",
    "clf = LogisticRegression(random_state=0).fit(train, label)\n",
    "# # clf = svm.SVR().fit(train,label)\n",
    "pid = pd.DataFrame(test.PassengerId)\n",
    "# test = test.drop(['PassengerId'],axis=1)\n",
    "\n",
    "predict =pd.DataFrame(clf.predict(testTmp))\n",
    "\n",
    "p = pd.concat([pid,predict],axis = 1)\n",
    "p.columns = ['PassengerId', 'Survived']\n",
    "p\n",
    "p.to_csv('predictLRNormalized.csv')\n",
    "# len(predict)\n",
    "# label = data.Survived"
   ]
  },
  {
   "cell_type": "code",
   "execution_count": null,
   "metadata": {},
   "outputs": [],
   "source": []
  },
  {
   "cell_type": "code",
   "execution_count": null,
   "metadata": {},
   "outputs": [],
   "source": []
  }
 ],
 "metadata": {
  "kernelspec": {
   "display_name": "Python 3",
   "language": "python",
   "name": "python3"
  },
  "language_info": {
   "codemirror_mode": {
    "name": "ipython",
    "version": 3
   },
   "file_extension": ".py",
   "mimetype": "text/x-python",
   "name": "python",
   "nbconvert_exporter": "python",
   "pygments_lexer": "ipython3",
   "version": "3.7.4"
  }
 },
 "nbformat": 4,
 "nbformat_minor": 2
}
