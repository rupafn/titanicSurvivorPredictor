{
 "cells": [
  {
   "cell_type": "code",
   "execution_count": 79,
   "metadata": {},
   "outputs": [
    {
     "name": "stderr",
     "output_type": "stream",
     "text": [
      "/Users/fajilatunnahar/opt/anaconda3/lib/python3.7/site-packages/sklearn/svm/base.py:193: FutureWarning: The default value of gamma will change from 'auto' to 'scale' in version 0.22 to account better for unscaled features. Set gamma explicitly to 'auto' or 'scale' to avoid this warning.\n",
      "  \"avoid this warning.\", FutureWarning)\n"
     ]
    }
   ],
   "source": [
    "import pandas as pd\n",
    "from sklearn import preprocessing\n",
    "import numpy as np\n",
    "from sklearn.linear_model import LogisticRegression\n",
    "from sklearn import svm\n",
    "train = pd.read_csv('train1.csv')\n",
    "test = pd.read_csv('test1.csv')\n",
    "label = train.Survived\n",
    "train = train.drop(['Survived','Unnamed: 0'], axis=1)\n",
    "test = test.drop(['Unnamed: 0'], axis=1)\n",
    "# clf = LogisticRegression(random_state=0).fit(train, label)\n",
    "clf = svm.SVR().fit(train,label)\n",
    "pid = pd.DataFrame(test.PassengerId)\n",
    "test = test.drop(['PassengerId'],axis=1)\n",
    "\n",
    "predict =pd.DataFrame(clf.predict(test))\n",
    "\n",
    "p = pd.concat([pid,predict],axis = 1)\n",
    "p.columns = ['PassengerId', 'Survived']\n",
    "p\n",
    "p.to_csv('predictsvmLinear.csv')\n",
    "# len(predict)\n",
    "# label = data.Survived"
   ]
  },
  {
   "cell_type": "code",
   "execution_count": null,
   "metadata": {},
   "outputs": [],
   "source": []
  }
 ],
 "metadata": {
  "kernelspec": {
   "display_name": "Python 3",
   "language": "python",
   "name": "python3"
  },
  "language_info": {
   "codemirror_mode": {
    "name": "ipython",
    "version": 3
   },
   "file_extension": ".py",
   "mimetype": "text/x-python",
   "name": "python",
   "nbconvert_exporter": "python",
   "pygments_lexer": "ipython3",
   "version": "3.7.4"
  }
 },
 "nbformat": 4,
 "nbformat_minor": 2
}
