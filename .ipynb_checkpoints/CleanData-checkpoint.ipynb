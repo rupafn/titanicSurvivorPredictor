{
 "cells": [
  {
   "cell_type": "code",
   "execution_count": 148,
   "metadata": {},
   "outputs": [
    {
     "name": "stderr",
     "output_type": "stream",
     "text": [
      "/Users/fajilatunnahar/opt/anaconda3/lib/python3.7/site-packages/ipykernel_launcher.py:33: SettingWithCopyWarning: \n",
      "A value is trying to be set on a copy of a slice from a DataFrame\n",
      "\n",
      "See the caveats in the documentation: http://pandas.pydata.org/pandas-docs/stable/user_guide/indexing.html#returning-a-view-versus-a-copy\n"
     ]
    }
   ],
   "source": [
    "import pandas as pd\n",
    "from sklearn import preprocessing\n",
    "import numpy as np\n",
    "\n",
    "# data = pd.read_csv('train.csv')\n",
    "# data = data.drop(['PassengerId','Name','Cabin'],axis=1)\n",
    "# le = preprocessing.LabelEncoder()\n",
    "# le.fit(data.Sex)\n",
    "# data.Sex = le.transform(data.Sex)\n",
    "# # label = data.Survived\n",
    "# age = pd.Series(data.Age)\n",
    "# isna = age.isna()\n",
    "# isna = isna[isna==True]\n",
    "# ind = isna.keys()\n",
    "# #drop data with nan age\n",
    "# data = data.drop(index = ind, axis = 0)\n",
    "# embarked = pd.Series(data.Embarked)\n",
    "# embarked = embarked.isna()\n",
    "# embarked = embarked[embarked==True]\n",
    "# ind = embarked.keys()\n",
    "# data = data.drop(index = ind, axis = 0)\n",
    "# dummies = pd.get_dummies(data.Embarked)\n",
    "\n",
    "# data = pd.concat([data,dummies],axis=1)\n",
    "# #drop one of dummy var to avoid dummy trap\n",
    "# data = data.drop(['Embarked','C'],axis = 1)\n",
    "# ticket = pd.Series(data.Ticket)\n",
    "# ticket = ticket.str.isnumeric()\n",
    "# ticket = ticket[ticket==False]\n",
    "# for i in ticket.keys():\n",
    "#     l = data.Ticket[i].split(' ')\n",
    "#     if len(l)==2:\n",
    "#         data.Ticket[i] = l[1]\n",
    "#     else:\n",
    "#         data = data.drop(index=[i],axis=0)\n",
    "# data.to_csv('train1.csv')\n",
    "\n",
    "\n",
    "#####################################################for test data####################################################\n",
    "\n",
    "data = pd.read_csv('test.csv')\n",
    "data = data.drop(['PassengerId','Name','Cabin'],axis=1)\n",
    "le = preprocessing.LabelEncoder()\n",
    "le.fit(data.Sex)\n",
    "data.Sex = le.transform(data.Sex)\n",
    "# label = data.Survived\n",
    "age = pd.Series(data.Age)\n",
    "isna = age.isna()\n",
    "isna = isna[isna==True]\n",
    "ind = isna.keys()\n",
    "#drop data with nan age\n",
    "data = data.drop(index = ind, axis = 0)\n",
    "embarked = pd.Series(data.Embarked)\n",
    "embarked = embarked.isna()\n",
    "embarked = embarked[embarked==True]\n",
    "ind = embarked.keys()\n",
    "data = data.drop(index = ind, axis = 0)\n",
    "dummies = pd.get_dummies(data.Embarked)\n",
    "\n",
    "data = pd.concat([data,dummies],axis=1)\n",
    "#drop one of dummy var to avoid dummy trap\n",
    "data = data.drop(['Embarked','C'],axis = 1)\n",
    "ticket = pd.Series(data.Ticket)\n",
    "ticket = ticket.str.isnumeric()\n",
    "ticket = ticket[ticket==False]\n",
    "for i in ticket.keys():\n",
    "    l = data.Ticket[i].split(' ')\n",
    "    if len(l)==2:\n",
    "        data.Ticket[i] = l[1]\n",
    "    else:\n",
    "        data = data.drop(index=[i],axis=0)\n",
    "data.to_csv('train1.csv')\n"
   ]
  },
  {
   "cell_type": "code",
   "execution_count": null,
   "metadata": {},
   "outputs": [],
   "source": []
  },
  {
   "cell_type": "code",
   "execution_count": null,
   "metadata": {},
   "outputs": [],
   "source": []
  }
 ],
 "metadata": {
  "kernelspec": {
   "display_name": "Python 3",
   "language": "python",
   "name": "python3"
  },
  "language_info": {
   "codemirror_mode": {
    "name": "ipython",
    "version": 3
   },
   "file_extension": ".py",
   "mimetype": "text/x-python",
   "name": "python",
   "nbconvert_exporter": "python",
   "pygments_lexer": "ipython3",
   "version": "3.7.4"
  }
 },
 "nbformat": 4,
 "nbformat_minor": 2
}
